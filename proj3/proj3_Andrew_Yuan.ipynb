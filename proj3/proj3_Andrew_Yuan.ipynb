{
 "cells": [
  {
   "cell_type": "code",
   "execution_count": 3,
   "id": "98d57bd0-7825-4fc1-81e7-c005eb979269",
   "metadata": {},
   "outputs": [],
   "source": [
    "import numpy as np\n"
   ]
  },
  {
   "cell_type": "code",
   "execution_count": 75,
   "id": "5af97b0d-edfa-43a5-b67d-9d9af9af94ab",
   "metadata": {},
   "outputs": [],
   "source": [
    "# Data generation\n",
    "n = 100\n",
    "true_mu1 = np.array([1, 1]) #mean for Gaussian Class A\n",
    "true_mu2 = np.array([-1, -1]) #mean for Gaussian Class B\n",
    "sigma = np.eye(2) #2x2\n",
    "\n",
    "prob_A = (n/(2*n)) #prior prob for each Class in this case I put it to 50/50\n",
    "prob_B = 1 - prob_A\n",
    "\n",
    "X1 = np.random.multivariate_normal(true_mu1, sigma, n) #Class A\n",
    "X2 = np.random.multivariate_normal(true_mu2, sigma, n) #Class B\n",
    "\n",
    "X = np.vstack([X1, X2]) # 2D array of all data points\n",
    "Y = np.hstack([np.ones(n), np.zeros(n)]) # Vector denoting which class each row in X belongs to"
   ]
  },
  {
   "cell_type": "code",
   "execution_count": 72,
   "id": "1842d7b7-80b1-497f-abd9-1504d0beaede",
   "metadata": {},
   "outputs": [],
   "source": [
    "# Gaussian Generative Model\n",
    "est_mu1 = X[Y==1].mean(axis=0) # Compute mean of all points in Class A --> return mean vector of [x1, x2]\n",
    "est_mu2 = X[Y==0].mean(axis=0) # Compute mean of all points in Class B --> return mean vector of [x1, x2]\n",
    "\n",
    "# This computes posterior probability for some Class\n",
    "def posterior_prob(x_data, est_mu1, est_mu2, sigma, prob_A, prob_B):\n",
    "    # Quadratic terms in x from the exponents of the Gaussian densities cancel since each Class shares covariance matrix \n",
    "    # Resulting in a linear function of x in the argument of the logistic sigmoid\n",
    "    # sigmoid(a) = sigmoid(w^Tx + w0)\n",
    "    w = np.linalg.inv(sigma) @ (est_mu1 - est_mu2) #2x1\n",
    "    w0 = (-1/2)*np.transpose(est_mu1) @ np.linalg.inv(sigma) @ (est_mu1) + \\\n",
    "    (1/2)*np.transpose(est_mu2) @ np.linalg.inv(sigma) @ (est_mu2) + \\\n",
    "    np.log(prob_A/prob_B)\n",
    "\n",
    "    a = x_data @ w + w0\n",
    "    \n",
    "    return 1/(1+np.exp(-a))"
   ]
  },
  {
   "cell_type": "code",
   "execution_count": 76,
   "id": "d7215152-3949-40e7-8061-b89b476c3698",
   "metadata": {},
   "outputs": [
    {
     "name": "stdout",
     "output_type": "stream",
     "text": [
      "Accuracy: 0.93\n"
     ]
    }
   ],
   "source": [
    "# Gaussian Generative Model Classification Performance\n",
    "y_pred = (posterior_prob(X, est_mu1, est_mu2, sigma, prob_A, prob_B) > 0.5).astype(int)\n",
    "accuracy = 1 - np.abs(np.sum(y_pred) - np.sum(Y))/np.sum(Y)\n",
    "\n",
    "print(f\"Accuracy: {accuracy:.2f}\")"
   ]
  },
  {
   "cell_type": "code",
   "execution_count": null,
   "id": "22db74ec-aaf8-4c46-85d8-ea8c24d12326",
   "metadata": {},
   "outputs": [],
   "source": [
    "# IRLS Algorithm"
   ]
  },
  {
   "cell_type": "code",
   "execution_count": null,
   "id": "6be39587-d015-4857-a34d-95e24db6ec2c",
   "metadata": {},
   "outputs": [],
   "source": []
  }
 ],
 "metadata": {
  "kernelspec": {
   "display_name": "Python (reu)",
   "language": "python",
   "name": "reu"
  },
  "language_info": {
   "codemirror_mode": {
    "name": "ipython",
    "version": 3
   },
   "file_extension": ".py",
   "mimetype": "text/x-python",
   "name": "python",
   "nbconvert_exporter": "python",
   "pygments_lexer": "ipython3",
   "version": "3.10.16"
  }
 },
 "nbformat": 4,
 "nbformat_minor": 5
}
