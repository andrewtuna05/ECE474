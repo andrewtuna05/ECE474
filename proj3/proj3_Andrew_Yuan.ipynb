{
 "cells": [
  {
   "cell_type": "code",
   "execution_count": 2,
   "id": "98d57bd0-7825-4fc1-81e7-c005eb979269",
   "metadata": {},
   "outputs": [],
   "source": [
    "import numpy as np\n"
   ]
  },
  {
   "cell_type": "code",
   "execution_count": 5,
   "id": "5af97b0d-edfa-43a5-b67d-9d9af9af94ab",
   "metadata": {},
   "outputs": [],
   "source": [
    "# Data generation\n",
    "n = 100\n",
    "true_mu1 = np.array([1, 1])\n",
    "true_mu2 = np.array([-1, -1])\n",
    "sigma = np.eye(2) #2x2\n",
    "\n",
    "X1 = np.random.multivariate_normal(mu1, sigma, n) #Class A\n",
    "X2 = np.random.multivariate_normal(mu2, sigma, n) #Class B\n",
    "\n",
    "X = np.vstack([X1, X2]) # 2D array of all data points\n",
    "y = np.hstack([np.ones(n), np.zeros(n)]) # Vector denoting which class each row in X belongs to"
   ]
  },
  {
   "cell_type": "code",
   "execution_count": null,
   "id": "1842d7b7-80b1-497f-abd9-1504d0beaede",
   "metadata": {},
   "outputs": [],
   "source": [
    "# Gaussian Generative Model\n",
    "est_mu1 = X[y==1].mean(axis=0) # Compute mean of all points in Class A --> return mean vector of [x1, x2]\n",
    "est_mu2 = X[y==0].mean(axis=0) # Compute mean of all points in Class B --> return mean vector of [x1, x2]\n",
    "\n"
   ]
  },
  {
   "cell_type": "code",
   "execution_count": null,
   "id": "d7215152-3949-40e7-8061-b89b476c3698",
   "metadata": {},
   "outputs": [],
   "source": []
  }
 ],
 "metadata": {
  "kernelspec": {
   "display_name": "Python (reu)",
   "language": "python",
   "name": "reu"
  },
  "language_info": {
   "codemirror_mode": {
    "name": "ipython",
    "version": 3
   },
   "file_extension": ".py",
   "mimetype": "text/x-python",
   "name": "python",
   "nbconvert_exporter": "python",
   "pygments_lexer": "ipython3",
   "version": "3.10.18"
  }
 },
 "nbformat": 4,
 "nbformat_minor": 5
}
